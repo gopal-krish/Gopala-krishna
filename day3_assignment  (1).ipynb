{
 "cells": [
  {
   "cell_type": "markdown",
   "metadata": {},
   "source": [
    "# assignment_2"
   ]
  },
  {
   "cell_type": "code",
   "execution_count": 1,
   "metadata": {},
   "outputs": [],
   "source": [
    "#if else elif"
   ]
  },
  {
   "cell_type": "code",
   "execution_count": 19,
   "metadata": {},
   "outputs": [
    {
     "name": "stdout",
     "output_type": "stream",
     "text": [
      "enter your marks for the subject - 77.3\n"
     ]
    }
   ],
   "source": [
    "grade =float(input(\"enter your marks for the subject - \" ))"
   ]
  },
  {
   "cell_type": "code",
   "execution_count": 20,
   "metadata": {},
   "outputs": [
    {
     "name": "stdout",
     "output_type": "stream",
     "text": [
      "you got B grade\n"
     ]
    }
   ],
   "source": [
    "\n",
    "if grade >= 90:\n",
    "    print(\"you got A grade\")\n",
    "\n",
    "elif grade >=75:\n",
    "    print(\"you got B grade\")\n",
    "\n",
    "elif grade >=60:\n",
    "    print(\"you got C grade\")\n",
    "\n",
    "elif grade >= 50:\n",
    "    print(\"you got D grade\")\n",
    "\n",
    "elif grade >= 35:\n",
    "    print(\"you got E grade\")\n",
    "else:\n",
    "    print(\"you are failed\")\n",
    "        "
   ]
  },
  {
   "cell_type": "code",
   "execution_count": null,
   "metadata": {},
   "outputs": [],
   "source": []
  },
  {
   "cell_type": "code",
   "execution_count": null,
   "metadata": {},
   "outputs": [],
   "source": []
  },
  {
   "cell_type": "code",
   "execution_count": null,
   "metadata": {},
   "outputs": [],
   "source": []
  },
  {
   "cell_type": "markdown",
   "metadata": {},
   "source": [
    "# Assignment_3"
   ]
  },
  {
   "cell_type": "code",
   "execution_count": 21,
   "metadata": {},
   "outputs": [],
   "source": [
    "#Team INDIA"
   ]
  },
  {
   "cell_type": "code",
   "execution_count": 22,
   "metadata": {},
   "outputs": [
    {
     "name": "stdout",
     "output_type": "stream",
     "text": [
      "Guess the score for the Indian team from 1 to 250..!\n",
      "enter your score ,230\n",
      "You don't watch that match :P\n"
     ]
    }
   ],
   "source": [
    "print(\"Guess the score for the Indian team from 1 to 250..!\")\n",
    "\n",
    "score = int(input(\"enter your score ,\" ))\n",
    "if (score > 250) :\n",
    "    print(\"Reduce your expectations..\")\n",
    "\n",
    "elif (score ==250) :\n",
    "    print(\"you're the True Indian.\")\n",
    "\n",
    "elif (score <=250 and score >=240) :\n",
    "    print(\"Close By, you are True Indian fan\")\n",
    "\n",
    "else :\n",
    "    print(\"You don't watch that match :P\")"
   ]
  },
  {
   "cell_type": "code",
   "execution_count": null,
   "metadata": {},
   "outputs": [],
   "source": []
  },
  {
   "cell_type": "code",
   "execution_count": null,
   "metadata": {},
   "outputs": [],
   "source": []
  },
  {
   "cell_type": "markdown",
   "metadata": {},
   "source": [
    "# File_handling_assignment"
   ]
  },
  {
   "cell_type": "code",
   "execution_count": 23,
   "metadata": {},
   "outputs": [],
   "source": [
    "#creating"
   ]
  },
  {
   "cell_type": "code",
   "execution_count": 24,
   "metadata": {},
   "outputs": [
    {
     "name": "stdout",
     "output_type": "stream",
     "text": [
      "<_io.TextIOWrapper name='FCS.txt' mode='w' encoding='cp1252'>\n"
     ]
    }
   ],
   "source": [
    "file = open(\"FCS.txt\",'w')\n",
    "print(file)"
   ]
  },
  {
   "cell_type": "code",
   "execution_count": 25,
   "metadata": {},
   "outputs": [],
   "source": [
    "#writing"
   ]
  },
  {
   "cell_type": "code",
   "execution_count": 26,
   "metadata": {},
   "outputs": [
    {
     "data": {
      "text/plain": [
       "<_io.TextIOWrapper name='FCS.txt' mode='w' encoding='cp1252'>"
      ]
     },
     "execution_count": 26,
     "metadata": {},
     "output_type": "execute_result"
    }
   ],
   "source": [
    "file"
   ]
  },
  {
   "cell_type": "code",
   "execution_count": 28,
   "metadata": {},
   "outputs": [],
   "source": [
    "file = open(\"FCS.txt\",'w')\n",
    "\n",
    "file.write(\"I LOVE FCS\")\n",
    "\n",
    "file.close()"
   ]
  },
  {
   "cell_type": "code",
   "execution_count": 29,
   "metadata": {},
   "outputs": [],
   "source": [
    "#reading"
   ]
  },
  {
   "cell_type": "code",
   "execution_count": 32,
   "metadata": {},
   "outputs": [
    {
     "data": {
      "text/plain": [
       "<_io.TextIOWrapper name='FCS.txt' mode='w' encoding='cp1252'>"
      ]
     },
     "execution_count": 32,
     "metadata": {},
     "output_type": "execute_result"
    }
   ],
   "source": [
    "file"
   ]
  },
  {
   "cell_type": "code",
   "execution_count": 34,
   "metadata": {},
   "outputs": [
    {
     "name": "stdout",
     "output_type": "stream",
     "text": [
      "I LOVE FCS\n"
     ]
    }
   ],
   "source": [
    "file = open(\"FCS.txt\",\"r\")\n",
    "text = file.read()\n",
    "print(text)\n",
    "file.close()"
   ]
  },
  {
   "cell_type": "code",
   "execution_count": null,
   "metadata": {},
   "outputs": [],
   "source": []
  },
  {
   "cell_type": "code",
   "execution_count": null,
   "metadata": {},
   "outputs": [],
   "source": []
  },
  {
   "cell_type": "markdown",
   "metadata": {},
   "source": [
    "# Facebook_profile_pic"
   ]
  },
  {
   "cell_type": "code",
   "execution_count": null,
   "metadata": {},
   "outputs": [],
   "source": [
    "l = range(1,10000)\n",
    "n = int(input(\"the number of photos u have   \"))\n",
    "i = 0\n",
    "while i < n :\n",
    "    w = int(input(\"enter the width of ur photo  in pixel \"))\n",
    "    h = int(input(\"enter the height of ur photo in pixel \"))\n",
    "    if (w < 10000 and h > 10000) :\n",
    "        print(\"upload another..!\")\n",
    "    else:\n",
    "        if (l == h and w == l) :\n",
    "            print(\"accept it\")\n",
    "        else :\n",
    "            print(\"crop it\")"
   ]
  },
  {
   "cell_type": "code",
   "execution_count": null,
   "metadata": {},
   "outputs": [],
   "source": []
  },
  {
   "cell_type": "code",
   "execution_count": null,
   "metadata": {},
   "outputs": [],
   "source": []
  },
  {
   "cell_type": "code",
   "execution_count": null,
   "metadata": {},
   "outputs": [],
   "source": [
    "#sorry sir i am unble to crack the maze prolem..."
   ]
  }
 ],
 "metadata": {
  "kernelspec": {
   "display_name": "Python 3",
   "language": "python",
   "name": "python3"
  },
  "language_info": {
   "codemirror_mode": {
    "name": "ipython",
    "version": 3
   },
   "file_extension": ".py",
   "mimetype": "text/x-python",
   "name": "python",
   "nbconvert_exporter": "python",
   "pygments_lexer": "ipython3",
   "version": "3.7.6"
  }
 },
 "nbformat": 4,
 "nbformat_minor": 4
}
