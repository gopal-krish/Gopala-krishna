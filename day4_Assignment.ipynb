{
 "cells": [
  {
   "cell_type": "markdown",
   "metadata": {},
   "source": [
    "# Encrypting_a_messsage"
   ]
  },
  {
   "cell_type": "code",
   "execution_count": null,
   "metadata": {},
   "outputs": [],
   "source": []
  },
  {
   "cell_type": "code",
   "execution_count": 1,
   "metadata": {},
   "outputs": [
    {
     "name": "stdout",
     "output_type": "stream",
     "text": [
      "enter the MESSAGE  fallback\n",
      "enter the  encryption key  4\n",
      "the encripted Message: jeppfego\n"
     ]
    }
   ],
   "source": [
    "\n",
    "\n",
    "text=input(\"enter the MESSAGE  \")\n",
    "H=int(input(\"enter the  encryption key  \"))\n",
    "\n",
    "\n",
    "def encripted (string,shift):\n",
    "   ciper = ''\n",
    "   for char in string:\n",
    "     if char=='':\n",
    "       ciper=ciper+char\n",
    "     elif char.isupper():\n",
    "       ciper=ciper+chr((ord(char)+shift-65)%26+65)\n",
    "     else:\n",
    "       ciper=ciper+chr((ord(char)+shift-97)%26+97)\n",
    "   return ciper\n",
    "\n",
    "\n",
    "\n",
    "print(\"the encripted Message:\",encripted (text,H) )\n"
   ]
  },
  {
   "cell_type": "code",
   "execution_count": null,
   "metadata": {},
   "outputs": [],
   "source": []
  }
 ],
 "metadata": {
  "kernelspec": {
   "display_name": "Python 3",
   "language": "python",
   "name": "python3"
  },
  "language_info": {
   "codemirror_mode": {
    "name": "ipython",
    "version": 3
   },
   "file_extension": ".py",
   "mimetype": "text/x-python",
   "name": "python",
   "nbconvert_exporter": "python",
   "pygments_lexer": "ipython3",
   "version": "3.7.6"
  }
 },
 "nbformat": 4,
 "nbformat_minor": 4
}
